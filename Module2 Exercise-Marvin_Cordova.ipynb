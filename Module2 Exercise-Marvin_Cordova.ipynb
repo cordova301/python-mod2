{
 "cells": [
  {
   "cell_type": "markdown",
   "metadata": {},
   "source": [
    "## Exercises\n",
    "### Write the pseudocode for these problems. \n",
    "\n",
    "#### Define the problem by constructing an IPO diagram showing input, output, and processing steps\n",
    "Ask yourself\n",
    "- What control structures (sequence, selection and repetition) are required?\n",
    "- What variables are required?\n",
    "\n",
    "Show a check of your solution with **test data** for at least **two valid test cases**\n",
    "If you use the numbers provided in the example then the correct pseudocode will calculate the same result.\n",
    "    "
   ]
  },
  {
   "cell_type": "markdown",
   "metadata": {},
   "source": [
    "#### 1. Find the average score\n",
    "A program is needed to prompt the user operator for exam scores, calculate the average score and display the result to the screen. The average score is calculated as the sum of the scores divided by the number of scores."
   ]
  },
  {
   "cell_type": "markdown",
   "metadata": {},
   "source": [
    "BEGIN\n",
    "\n",
    " set counter to 1 \n",
    " set total to 0 \n",
    " LOOP counter <=5\n",
    "  prompt user for a number \n",
    "  get number \n",
    "  add number total\n",
    "  add 1 to counter \n",
    " ENDLOOP\n",
    " \n",
    " Average = divide total by 5\n",
    " print average\n",
    "\n",
    "END"
   ]
  },
  {
   "cell_type": "markdown",
   "metadata": {},
   "source": [
    "#### 2. How much water runs off a roof in a rain storm?\n",
    "To calculate the runoff from any given rainfall: Take the dimensions of the footprint of the roof and convert them to inches. (So, a 50' x 20' roof is 600\" x 240\"). Multiply the roof dimensions by the number of inches of rainfall. As an example, 600\" x 240\" x 1\" = 144,000 cubic inches of water for an inch of rainfall. Divide that result by 231 to get the number of gallons (because 1 gallon = 231 cubic inches). (144,000/231 = 623.38).\n",
    "\n",
    "BEGIN\n",
    "\n",
    "Prompt user for roof dimension numbers in feet \n",
    "get numb1 \n",
    "Prompt user for roof dimension numbers in feet \n",
    "get numb2\n",
    "Prompt user for inches of rainfall\n",
    "get numb3 \n",
    "\n",
    "numb1 * numb2\n",
    "print total\n",
    "\n",
    "feet = inches/ 12\n",
    "print(\"The length in inches\")\n",
    "\n",
    "numb1 * numb3 * 1 = total / 231 = gallons \n",
    "print total gallons \n",
    "\n",
    "\n",
    "numb2 * numb3 * 1 = total / 231 = gallons \n",
    "print total gallons \n",
    "\n",
    "\n",
    "END\n",
    "\n"
   ]
  },
  {
   "cell_type": "markdown",
   "metadata": {},
   "source": [
    "Type Markdown and LaTeX:  𝛼2"
   ]
  },
  {
   "cell_type": "markdown",
   "metadata": {},
   "source": [
    "#### 3. Process customer record\n",
    "A program is required to read a customer’s name, a purchase amount and a tax code. The tax code has been validated and will be one of the following: 0 tax exempt (0%) 1 state sales tax only (3%) 2 federal and state sales tax (5%) 3 special sales tax (7%) The program must then compute the sales tax and the total amount due,and print the customer’s name, purchase amount, sales tax and total amount due.\n",
    "\n",
    "\n",
    "BEGIN\n",
    "\n",
    "Prompt customers name \n",
    "print customers name\n",
    "\n",
    "LOOP 0 < = 0%\n",
    "print tax exempt (0%)\n",
    "\n",
    "LOOP 1 < = 3% \n",
    "print state sales tax only (3%)\n",
    "\n",
    "LOOP 2 < = 5% \n",
    "print federal and state sales tax (5%)\n",
    "\n",
    "LOOP 3 < = 7% \n",
    "print special sales tax (7%) \n",
    "\n",
    "sales tax / 100\n",
    "Price of item * by the decimal tax rate \n",
    "print total \n",
    "END LOOP\n",
    "\n",
    "END\n",
    "\n",
    "\n",
    "\n",
    "\n",
    "\n",
    "\n",
    "\n",
    "\n",
    "\n",
    "\n",
    "\n",
    "\n",
    "\n"
   ]
  },
  {
   "cell_type": "markdown",
   "metadata": {},
   "source": [
    "Type Markdown and LaTeX:  𝛼2"
   ]
  },
  {
   "cell_type": "markdown",
   "metadata": {},
   "source": [
    "#### 4. Calculate employee's pay \n",
    "A program is required by a company to read an employee’s number, pay rate and the number of hours worked in a week. The program is then to validate the pay rate field and the hours worked field and, if valid, compute the employee’s weekly pay and then print it and the input data.\n",
    "\n",
    "Validation: According to the company’s rules, the maximum hours an employee can work per week is 60 hours, and the maximum hourly rate is $25.00 per hour. If the hours worked field or the hourly rate field is out of range, the input data and an appropriate message are to be printed and the employee’s weekly pay is not to be calculated.\n",
    "\n",
    "Weekly pay calculation: Weekly pay is calculated as hours worked times pay rate. If more than 35 hours are worked, payment for the overtime hours worked is calculated at time-and-a-half."
   ]
  },
  {
   "cell_type": "markdown",
   "metadata": {},
   "source": [
    "BEGIN\n",
    "\n",
    "promtp employee for number + pay rate + number of hours worked in a week \n",
    "LOOP a <=60 \n",
    "LOOP B <=25.00\n",
    "IF pay rate valid + hours worked \n",
    "LOOP a <=60  \n",
    "LOOP b <=25.00\n",
    "ENDIF \n",
    "a*b=\n",
    "\n",
    "\n",
    "\n",
    "\n",
    "\n",
    "\n",
    "\n",
    "END"
   ]
  },
  {
   "cell_type": "code",
   "execution_count": null,
   "metadata": {},
   "outputs": [],
   "source": [
    "promtp employee for number + pay rate + number of hours worked in a week \n",
    "LOOP a <=60 \n",
    "LOOP B <=25.00\n",
    "IF pay rate valid + hours worked \n",
    "LOOP a <=60  \n",
    "LOOP b <=25.00\n",
    "ENDIF \n",
    "a*b="
   ]
  }
 ],
 "metadata": {
  "kernelspec": {
   "display_name": "Python 3 (ipykernel)",
   "language": "python",
   "name": "python3"
  },
  "language_info": {
   "codemirror_mode": {
    "name": "ipython",
    "version": 3
   },
   "file_extension": ".py",
   "mimetype": "text/x-python",
   "name": "python",
   "nbconvert_exporter": "python",
   "pygments_lexer": "ipython3",
   "version": "3.11.5"
  }
 },
 "nbformat": 4,
 "nbformat_minor": 2
}
